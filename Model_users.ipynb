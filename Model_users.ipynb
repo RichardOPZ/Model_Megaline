{
 "cells": [
  {
   "cell_type": "markdown",
   "metadata": {},
   "source": [
    "<H1>Desarrolla un modelo con la mayor exactitud posible.</H1>\n",
    " <p>En este proyecto, el umbral de exactitud es 0.75. </p>\n",
    "   <p>Usa el dataset para comprobar la exactitud.</p>\n"
   ]
  },
  {
   "cell_type": "markdown",
   "metadata": {},
   "source": [
    "<p><b>Descripción de datos</b>\n",
    "<p>Cada observación en el dataset contiene información del comportamiento mensual sobre un usuario. La información dada es la siguiente:</p>\n",
    "    <ul>\n",
    "<li>сalls — número de llamadas,</li>\n",
    "<li>minutes — duración total de la llamada en minutos,</li>\n",
    "<li>messages — número de mensajes de texto,</li>\n",
    "<li>mb_used — Tráfico de Internet utilizado en MB,</li>\n",
    "<li>is_ultra — plan para el mes actual (Ultra - 1, Smart - 0).</li>\n",
    "    </ul>\n",
    "</p>"
   ]
  },
  {
   "cell_type": "markdown",
   "metadata": {},
   "source": [
    "<h1>Instrucciones del proyecto.</h1>"
   ]
  },
  {
   "cell_type": "markdown",
   "metadata": {},
   "source": [
    "<h3> Abre y examina el archivo de datos. Dirección al archivo:datasets/users_behavior.csv Descarga el dataset</h3>"
   ]
  },
  {
   "cell_type": "code",
   "execution_count": 8,
   "metadata": {},
   "outputs": [],
   "source": [
    "import pandas as pd\n",
    "from sklearn.model_selection import train_test_split\n",
    "from sklearn.tree import DecisionTreeClassifier\n",
    "from sklearn.linear_model import LogisticRegression\n",
    "from sklearn.ensemble import RandomForestClassifier\n",
    "from sklearn.metrics import accuracy_score\n",
    "from sklearn.metrics import mean_squared_error\n"
   ]
  },
  {
   "cell_type": "code",
   "execution_count": 9,
   "metadata": {},
   "outputs": [],
   "source": [
    "df=pd.read_csv('/datasets/users_behavior.csv')"
   ]
  },
  {
   "cell_type": "code",
   "execution_count": 10,
   "metadata": {
    "scrolled": true
   },
   "outputs": [
    {
     "data": {
      "text/html": [
       "<div>\n",
       "<style scoped>\n",
       "    .dataframe tbody tr th:only-of-type {\n",
       "        vertical-align: middle;\n",
       "    }\n",
       "\n",
       "    .dataframe tbody tr th {\n",
       "        vertical-align: top;\n",
       "    }\n",
       "\n",
       "    .dataframe thead th {\n",
       "        text-align: right;\n",
       "    }\n",
       "</style>\n",
       "<table border=\"1\" class=\"dataframe\">\n",
       "  <thead>\n",
       "    <tr style=\"text-align: right;\">\n",
       "      <th></th>\n",
       "      <th>calls</th>\n",
       "      <th>minutes</th>\n",
       "      <th>messages</th>\n",
       "      <th>mb_used</th>\n",
       "      <th>is_ultra</th>\n",
       "    </tr>\n",
       "  </thead>\n",
       "  <tbody>\n",
       "    <tr>\n",
       "      <th>0</th>\n",
       "      <td>40.0</td>\n",
       "      <td>311.90</td>\n",
       "      <td>83.0</td>\n",
       "      <td>19915.42</td>\n",
       "      <td>0</td>\n",
       "    </tr>\n",
       "    <tr>\n",
       "      <th>1</th>\n",
       "      <td>85.0</td>\n",
       "      <td>516.75</td>\n",
       "      <td>56.0</td>\n",
       "      <td>22696.96</td>\n",
       "      <td>0</td>\n",
       "    </tr>\n",
       "    <tr>\n",
       "      <th>2</th>\n",
       "      <td>77.0</td>\n",
       "      <td>467.66</td>\n",
       "      <td>86.0</td>\n",
       "      <td>21060.45</td>\n",
       "      <td>0</td>\n",
       "    </tr>\n",
       "    <tr>\n",
       "      <th>3</th>\n",
       "      <td>106.0</td>\n",
       "      <td>745.53</td>\n",
       "      <td>81.0</td>\n",
       "      <td>8437.39</td>\n",
       "      <td>1</td>\n",
       "    </tr>\n",
       "    <tr>\n",
       "      <th>4</th>\n",
       "      <td>66.0</td>\n",
       "      <td>418.74</td>\n",
       "      <td>1.0</td>\n",
       "      <td>14502.75</td>\n",
       "      <td>0</td>\n",
       "    </tr>\n",
       "    <tr>\n",
       "      <th>...</th>\n",
       "      <td>...</td>\n",
       "      <td>...</td>\n",
       "      <td>...</td>\n",
       "      <td>...</td>\n",
       "      <td>...</td>\n",
       "    </tr>\n",
       "    <tr>\n",
       "      <th>3209</th>\n",
       "      <td>122.0</td>\n",
       "      <td>910.98</td>\n",
       "      <td>20.0</td>\n",
       "      <td>35124.90</td>\n",
       "      <td>1</td>\n",
       "    </tr>\n",
       "    <tr>\n",
       "      <th>3210</th>\n",
       "      <td>25.0</td>\n",
       "      <td>190.36</td>\n",
       "      <td>0.0</td>\n",
       "      <td>3275.61</td>\n",
       "      <td>0</td>\n",
       "    </tr>\n",
       "    <tr>\n",
       "      <th>3211</th>\n",
       "      <td>97.0</td>\n",
       "      <td>634.44</td>\n",
       "      <td>70.0</td>\n",
       "      <td>13974.06</td>\n",
       "      <td>0</td>\n",
       "    </tr>\n",
       "    <tr>\n",
       "      <th>3212</th>\n",
       "      <td>64.0</td>\n",
       "      <td>462.32</td>\n",
       "      <td>90.0</td>\n",
       "      <td>31239.78</td>\n",
       "      <td>0</td>\n",
       "    </tr>\n",
       "    <tr>\n",
       "      <th>3213</th>\n",
       "      <td>80.0</td>\n",
       "      <td>566.09</td>\n",
       "      <td>6.0</td>\n",
       "      <td>29480.52</td>\n",
       "      <td>1</td>\n",
       "    </tr>\n",
       "  </tbody>\n",
       "</table>\n",
       "<p>3214 rows × 5 columns</p>\n",
       "</div>"
      ],
      "text/plain": [
       "      calls  minutes  messages   mb_used  is_ultra\n",
       "0      40.0   311.90      83.0  19915.42         0\n",
       "1      85.0   516.75      56.0  22696.96         0\n",
       "2      77.0   467.66      86.0  21060.45         0\n",
       "3     106.0   745.53      81.0   8437.39         1\n",
       "4      66.0   418.74       1.0  14502.75         0\n",
       "...     ...      ...       ...       ...       ...\n",
       "3209  122.0   910.98      20.0  35124.90         1\n",
       "3210   25.0   190.36       0.0   3275.61         0\n",
       "3211   97.0   634.44      70.0  13974.06         0\n",
       "3212   64.0   462.32      90.0  31239.78         0\n",
       "3213   80.0   566.09       6.0  29480.52         1\n",
       "\n",
       "[3214 rows x 5 columns]"
      ]
     },
     "execution_count": 10,
     "metadata": {},
     "output_type": "execute_result"
    }
   ],
   "source": [
    "df"
   ]
  },
  {
   "cell_type": "markdown",
   "metadata": {},
   "source": [
    "<h3>Segmenta los datos fuente en un conjunto de entrenamiento, uno de validación y uno de prueba.</h3>"
   ]
  },
  {
   "cell_type": "code",
   "execution_count": 11,
   "metadata": {},
   "outputs": [],
   "source": [
    "features_80, features_test, target_80, target_test = train_test_split(df[[\"calls\",\"minutes\",\"messages\",\"mb_used\"]],df[[\"is_ultra\"]], test_size=0.20, random_state=12345)\n",
    "features_train, features_valid, target_train, target_valid = train_test_split(features_80[[\"calls\",\"minutes\",\"messages\",\"mb_used\",]],target_80[[\"is_ultra\"]], test_size=0.25, random_state=12345)"
   ]
  },
  {
   "cell_type": "code",
   "execution_count": 12,
   "metadata": {},
   "outputs": [
    {
     "name": "stdout",
     "output_type": "stream",
     "text": [
      "0.5998755444928439\n",
      "0.2000622277535781\n",
      "0.2000622277535781\n"
     ]
    }
   ],
   "source": [
    "print((features_train.shape[0])/3214)\n",
    "print((features_valid.shape[0])/3214)\n",
    "print((features_test.shape[0])/3214)"
   ]
  },
  {
   "cell_type": "markdown",
   "metadata": {},
   "source": [
    "<p><b><FONT color=blue> Se hace la segmentacion de datos 3:1:1, teniendo los datos de entrenamiento en 60 %, los datos de validacion en 20% y datos de prueba en 20 % </b></FONT></p>"
   ]
  },
  {
   "cell_type": "markdown",
   "metadata": {},
   "source": [
    "<h3>Investiga la calidad de diferentes modelos cambiando los hiperparámetros. Describe brevemente los hallazgos del estudio.</h3>"
   ]
  },
  {
   "cell_type": "code",
   "execution_count": 13,
   "metadata": {},
   "outputs": [
    {
     "name": "stdout",
     "output_type": "stream",
     "text": [
      "max_depth = 2 :  0.7573872472783826\n",
      "max_depth = 3 :  0.7651632970451011\n",
      "max_depth = 4 :  0.7636080870917574\n",
      "max_depth = 5 :  0.7589424572317263\n",
      "max_depth = 6 :  0.7573872472783826\n",
      "max_depth = 7 :  0.7744945567651633\n",
      "max_depth = 8 :  0.7667185069984448\n",
      "max_depth = 9 :  0.7620528771384136\n",
      "max_depth = 10 :  0.7713841368584758\n",
      "max_depth = 11 :  0.7589424572317263\n",
      "max_depth = 12 :  0.7558320373250389\n",
      "max_depth = 14 :  0.7573872472783826\n",
      "max_depth = 15 :  0.7527216174183515\n"
     ]
    }
   ],
   "source": [
    "for depth in range(1,21):\n",
    "    model_tree_class= DecisionTreeClassifier(random_state=12345,max_depth=depth)\n",
    "    model_tree_class.fit(features_train,target_train)\n",
    "    predictions_valid = model_tree_class.predict(features_valid)\n",
    "    acc=accuracy_score(target_valid, predictions_valid)\n",
    "    if acc > 0.75:\n",
    "        print(\"max_depth =\", depth, \": \",acc)\n",
    "    \n",
    "  "
   ]
  },
  {
   "cell_type": "code",
   "execution_count": 14,
   "metadata": {
    "scrolled": true
   },
   "outputs": [
    {
     "name": "stdout",
     "output_type": "stream",
     "text": [
      "Accuracy del modelo de regresión logística en el conjunto de entrenamiento: 0.7422199170124482\n",
      "Accuracy del modelo de regresión logística en el conjunto de validación: 0.7293934681181959\n"
     ]
    },
    {
     "name": "stderr",
     "output_type": "stream",
     "text": [
      "/opt/conda/envs/python3/lib/python3.9/site-packages/sklearn/utils/validation.py:63: DataConversionWarning: A column-vector y was passed when a 1d array was expected. Please change the shape of y to (n_samples, ), for example using ravel().\n",
      "  return f(*args, **kwargs)\n"
     ]
    }
   ],
   "source": [
    "model_log_reg_class = LogisticRegression(random_state=54321, solver='liblinear',max_iter=200)\n",
    "model_log_reg_class.fit(features_train,target_train) # entrena el modelo en el conjunto de entrenamiento\n",
    "score_train = model_log_reg_class.score(features_train,target_train) # calcula la puntuación de accuracy en el conjunto de entrenamiento\n",
    "score_valid = model_log_reg_class.score(features_valid,target_valid) # calcula la puntuación de accuracy en el conjunto de validación\n",
    "\n",
    "print(\"Accuracy del modelo de regresión logística en el conjunto de entrenamiento:\", score_train)\n",
    "print(\"Accuracy del modelo de regresión logística en el conjunto de validación:\", score_valid)\n"
   ]
  },
  {
   "cell_type": "code",
   "execution_count": 15,
   "metadata": {},
   "outputs": [
    {
     "name": "stderr",
     "output_type": "stream",
     "text": [
      "/tmp/ipykernel_66/3257285775.py:5: DataConversionWarning: A column-vector y was passed when a 1d array was expected. Please change the shape of y to (n_samples,), for example using ravel().\n",
      "  model_forest_class.fit(features_train,target_train) # entrena el modelo en el conjunto de entrenamiento\n",
      "/tmp/ipykernel_66/3257285775.py:5: DataConversionWarning: A column-vector y was passed when a 1d array was expected. Please change the shape of y to (n_samples,), for example using ravel().\n",
      "  model_forest_class.fit(features_train,target_train) # entrena el modelo en el conjunto de entrenamiento\n",
      "/tmp/ipykernel_66/3257285775.py:5: DataConversionWarning: A column-vector y was passed when a 1d array was expected. Please change the shape of y to (n_samples,), for example using ravel().\n",
      "  model_forest_class.fit(features_train,target_train) # entrena el modelo en el conjunto de entrenamiento\n",
      "/tmp/ipykernel_66/3257285775.py:5: DataConversionWarning: A column-vector y was passed when a 1d array was expected. Please change the shape of y to (n_samples,), for example using ravel().\n",
      "  model_forest_class.fit(features_train,target_train) # entrena el modelo en el conjunto de entrenamiento\n",
      "/tmp/ipykernel_66/3257285775.py:5: DataConversionWarning: A column-vector y was passed when a 1d array was expected. Please change the shape of y to (n_samples,), for example using ravel().\n",
      "  model_forest_class.fit(features_train,target_train) # entrena el modelo en el conjunto de entrenamiento\n",
      "/tmp/ipykernel_66/3257285775.py:5: DataConversionWarning: A column-vector y was passed when a 1d array was expected. Please change the shape of y to (n_samples,), for example using ravel().\n",
      "  model_forest_class.fit(features_train,target_train) # entrena el modelo en el conjunto de entrenamiento\n",
      "/tmp/ipykernel_66/3257285775.py:5: DataConversionWarning: A column-vector y was passed when a 1d array was expected. Please change the shape of y to (n_samples,), for example using ravel().\n",
      "  model_forest_class.fit(features_train,target_train) # entrena el modelo en el conjunto de entrenamiento\n",
      "/tmp/ipykernel_66/3257285775.py:5: DataConversionWarning: A column-vector y was passed when a 1d array was expected. Please change the shape of y to (n_samples,), for example using ravel().\n",
      "  model_forest_class.fit(features_train,target_train) # entrena el modelo en el conjunto de entrenamiento\n",
      "/tmp/ipykernel_66/3257285775.py:5: DataConversionWarning: A column-vector y was passed when a 1d array was expected. Please change the shape of y to (n_samples,), for example using ravel().\n",
      "  model_forest_class.fit(features_train,target_train) # entrena el modelo en el conjunto de entrenamiento\n",
      "/tmp/ipykernel_66/3257285775.py:5: DataConversionWarning: A column-vector y was passed when a 1d array was expected. Please change the shape of y to (n_samples,), for example using ravel().\n",
      "  model_forest_class.fit(features_train,target_train) # entrena el modelo en el conjunto de entrenamiento\n",
      "/tmp/ipykernel_66/3257285775.py:5: DataConversionWarning: A column-vector y was passed when a 1d array was expected. Please change the shape of y to (n_samples,), for example using ravel().\n",
      "  model_forest_class.fit(features_train,target_train) # entrena el modelo en el conjunto de entrenamiento\n",
      "/tmp/ipykernel_66/3257285775.py:5: DataConversionWarning: A column-vector y was passed when a 1d array was expected. Please change the shape of y to (n_samples,), for example using ravel().\n",
      "  model_forest_class.fit(features_train,target_train) # entrena el modelo en el conjunto de entrenamiento\n",
      "/tmp/ipykernel_66/3257285775.py:5: DataConversionWarning: A column-vector y was passed when a 1d array was expected. Please change the shape of y to (n_samples,), for example using ravel().\n",
      "  model_forest_class.fit(features_train,target_train) # entrena el modelo en el conjunto de entrenamiento\n",
      "/tmp/ipykernel_66/3257285775.py:5: DataConversionWarning: A column-vector y was passed when a 1d array was expected. Please change the shape of y to (n_samples,), for example using ravel().\n",
      "  model_forest_class.fit(features_train,target_train) # entrena el modelo en el conjunto de entrenamiento\n",
      "/tmp/ipykernel_66/3257285775.py:5: DataConversionWarning: A column-vector y was passed when a 1d array was expected. Please change the shape of y to (n_samples,), for example using ravel().\n",
      "  model_forest_class.fit(features_train,target_train) # entrena el modelo en el conjunto de entrenamiento\n",
      "/tmp/ipykernel_66/3257285775.py:5: DataConversionWarning: A column-vector y was passed when a 1d array was expected. Please change the shape of y to (n_samples,), for example using ravel().\n",
      "  model_forest_class.fit(features_train,target_train) # entrena el modelo en el conjunto de entrenamiento\n",
      "/tmp/ipykernel_66/3257285775.py:5: DataConversionWarning: A column-vector y was passed when a 1d array was expected. Please change the shape of y to (n_samples,), for example using ravel().\n",
      "  model_forest_class.fit(features_train,target_train) # entrena el modelo en el conjunto de entrenamiento\n",
      "/tmp/ipykernel_66/3257285775.py:5: DataConversionWarning: A column-vector y was passed when a 1d array was expected. Please change the shape of y to (n_samples,), for example using ravel().\n",
      "  model_forest_class.fit(features_train,target_train) # entrena el modelo en el conjunto de entrenamiento\n",
      "/tmp/ipykernel_66/3257285775.py:5: DataConversionWarning: A column-vector y was passed when a 1d array was expected. Please change the shape of y to (n_samples,), for example using ravel().\n",
      "  model_forest_class.fit(features_train,target_train) # entrena el modelo en el conjunto de entrenamiento\n",
      "/tmp/ipykernel_66/3257285775.py:5: DataConversionWarning: A column-vector y was passed when a 1d array was expected. Please change the shape of y to (n_samples,), for example using ravel().\n",
      "  model_forest_class.fit(features_train,target_train) # entrena el modelo en el conjunto de entrenamiento\n",
      "/tmp/ipykernel_66/3257285775.py:5: DataConversionWarning: A column-vector y was passed when a 1d array was expected. Please change the shape of y to (n_samples,), for example using ravel().\n",
      "  model_forest_class.fit(features_train,target_train) # entrena el modelo en el conjunto de entrenamiento\n",
      "/tmp/ipykernel_66/3257285775.py:5: DataConversionWarning: A column-vector y was passed when a 1d array was expected. Please change the shape of y to (n_samples,), for example using ravel().\n",
      "  model_forest_class.fit(features_train,target_train) # entrena el modelo en el conjunto de entrenamiento\n",
      "/tmp/ipykernel_66/3257285775.py:5: DataConversionWarning: A column-vector y was passed when a 1d array was expected. Please change the shape of y to (n_samples,), for example using ravel().\n",
      "  model_forest_class.fit(features_train,target_train) # entrena el modelo en el conjunto de entrenamiento\n",
      "/tmp/ipykernel_66/3257285775.py:5: DataConversionWarning: A column-vector y was passed when a 1d array was expected. Please change the shape of y to (n_samples,), for example using ravel().\n",
      "  model_forest_class.fit(features_train,target_train) # entrena el modelo en el conjunto de entrenamiento\n",
      "/tmp/ipykernel_66/3257285775.py:5: DataConversionWarning: A column-vector y was passed when a 1d array was expected. Please change the shape of y to (n_samples,), for example using ravel().\n",
      "  model_forest_class.fit(features_train,target_train) # entrena el modelo en el conjunto de entrenamiento\n",
      "/tmp/ipykernel_66/3257285775.py:5: DataConversionWarning: A column-vector y was passed when a 1d array was expected. Please change the shape of y to (n_samples,), for example using ravel().\n",
      "  model_forest_class.fit(features_train,target_train) # entrena el modelo en el conjunto de entrenamiento\n",
      "/tmp/ipykernel_66/3257285775.py:5: DataConversionWarning: A column-vector y was passed when a 1d array was expected. Please change the shape of y to (n_samples,), for example using ravel().\n",
      "  model_forest_class.fit(features_train,target_train) # entrena el modelo en el conjunto de entrenamiento\n",
      "/tmp/ipykernel_66/3257285775.py:5: DataConversionWarning: A column-vector y was passed when a 1d array was expected. Please change the shape of y to (n_samples,), for example using ravel().\n",
      "  model_forest_class.fit(features_train,target_train) # entrena el modelo en el conjunto de entrenamiento\n"
     ]
    },
    {
     "name": "stderr",
     "output_type": "stream",
     "text": [
      "/tmp/ipykernel_66/3257285775.py:5: DataConversionWarning: A column-vector y was passed when a 1d array was expected. Please change the shape of y to (n_samples,), for example using ravel().\n",
      "  model_forest_class.fit(features_train,target_train) # entrena el modelo en el conjunto de entrenamiento\n",
      "/tmp/ipykernel_66/3257285775.py:5: DataConversionWarning: A column-vector y was passed when a 1d array was expected. Please change the shape of y to (n_samples,), for example using ravel().\n",
      "  model_forest_class.fit(features_train,target_train) # entrena el modelo en el conjunto de entrenamiento\n",
      "/tmp/ipykernel_66/3257285775.py:5: DataConversionWarning: A column-vector y was passed when a 1d array was expected. Please change the shape of y to (n_samples,), for example using ravel().\n",
      "  model_forest_class.fit(features_train,target_train) # entrena el modelo en el conjunto de entrenamiento\n",
      "/tmp/ipykernel_66/3257285775.py:5: DataConversionWarning: A column-vector y was passed when a 1d array was expected. Please change the shape of y to (n_samples,), for example using ravel().\n",
      "  model_forest_class.fit(features_train,target_train) # entrena el modelo en el conjunto de entrenamiento\n",
      "/tmp/ipykernel_66/3257285775.py:5: DataConversionWarning: A column-vector y was passed when a 1d array was expected. Please change the shape of y to (n_samples,), for example using ravel().\n",
      "  model_forest_class.fit(features_train,target_train) # entrena el modelo en el conjunto de entrenamiento\n",
      "/tmp/ipykernel_66/3257285775.py:5: DataConversionWarning: A column-vector y was passed when a 1d array was expected. Please change the shape of y to (n_samples,), for example using ravel().\n",
      "  model_forest_class.fit(features_train,target_train) # entrena el modelo en el conjunto de entrenamiento\n",
      "/tmp/ipykernel_66/3257285775.py:5: DataConversionWarning: A column-vector y was passed when a 1d array was expected. Please change the shape of y to (n_samples,), for example using ravel().\n",
      "  model_forest_class.fit(features_train,target_train) # entrena el modelo en el conjunto de entrenamiento\n",
      "/tmp/ipykernel_66/3257285775.py:5: DataConversionWarning: A column-vector y was passed when a 1d array was expected. Please change the shape of y to (n_samples,), for example using ravel().\n",
      "  model_forest_class.fit(features_train,target_train) # entrena el modelo en el conjunto de entrenamiento\n",
      "/tmp/ipykernel_66/3257285775.py:5: DataConversionWarning: A column-vector y was passed when a 1d array was expected. Please change the shape of y to (n_samples,), for example using ravel().\n",
      "  model_forest_class.fit(features_train,target_train) # entrena el modelo en el conjunto de entrenamiento\n",
      "/tmp/ipykernel_66/3257285775.py:5: DataConversionWarning: A column-vector y was passed when a 1d array was expected. Please change the shape of y to (n_samples,), for example using ravel().\n",
      "  model_forest_class.fit(features_train,target_train) # entrena el modelo en el conjunto de entrenamiento\n",
      "/tmp/ipykernel_66/3257285775.py:5: DataConversionWarning: A column-vector y was passed when a 1d array was expected. Please change the shape of y to (n_samples,), for example using ravel().\n",
      "  model_forest_class.fit(features_train,target_train) # entrena el modelo en el conjunto de entrenamiento\n",
      "/tmp/ipykernel_66/3257285775.py:5: DataConversionWarning: A column-vector y was passed when a 1d array was expected. Please change the shape of y to (n_samples,), for example using ravel().\n",
      "  model_forest_class.fit(features_train,target_train) # entrena el modelo en el conjunto de entrenamiento\n",
      "/tmp/ipykernel_66/3257285775.py:5: DataConversionWarning: A column-vector y was passed when a 1d array was expected. Please change the shape of y to (n_samples,), for example using ravel().\n",
      "  model_forest_class.fit(features_train,target_train) # entrena el modelo en el conjunto de entrenamiento\n",
      "/tmp/ipykernel_66/3257285775.py:5: DataConversionWarning: A column-vector y was passed when a 1d array was expected. Please change the shape of y to (n_samples,), for example using ravel().\n",
      "  model_forest_class.fit(features_train,target_train) # entrena el modelo en el conjunto de entrenamiento\n",
      "/tmp/ipykernel_66/3257285775.py:5: DataConversionWarning: A column-vector y was passed when a 1d array was expected. Please change the shape of y to (n_samples,), for example using ravel().\n",
      "  model_forest_class.fit(features_train,target_train) # entrena el modelo en el conjunto de entrenamiento\n",
      "/tmp/ipykernel_66/3257285775.py:5: DataConversionWarning: A column-vector y was passed when a 1d array was expected. Please change the shape of y to (n_samples,), for example using ravel().\n",
      "  model_forest_class.fit(features_train,target_train) # entrena el modelo en el conjunto de entrenamiento\n",
      "/tmp/ipykernel_66/3257285775.py:5: DataConversionWarning: A column-vector y was passed when a 1d array was expected. Please change the shape of y to (n_samples,), for example using ravel().\n",
      "  model_forest_class.fit(features_train,target_train) # entrena el modelo en el conjunto de entrenamiento\n",
      "/tmp/ipykernel_66/3257285775.py:5: DataConversionWarning: A column-vector y was passed when a 1d array was expected. Please change the shape of y to (n_samples,), for example using ravel().\n",
      "  model_forest_class.fit(features_train,target_train) # entrena el modelo en el conjunto de entrenamiento\n",
      "/tmp/ipykernel_66/3257285775.py:5: DataConversionWarning: A column-vector y was passed when a 1d array was expected. Please change the shape of y to (n_samples,), for example using ravel().\n",
      "  model_forest_class.fit(features_train,target_train) # entrena el modelo en el conjunto de entrenamiento\n",
      "/tmp/ipykernel_66/3257285775.py:5: DataConversionWarning: A column-vector y was passed when a 1d array was expected. Please change the shape of y to (n_samples,), for example using ravel().\n",
      "  model_forest_class.fit(features_train,target_train) # entrena el modelo en el conjunto de entrenamiento\n",
      "/tmp/ipykernel_66/3257285775.py:5: DataConversionWarning: A column-vector y was passed when a 1d array was expected. Please change the shape of y to (n_samples,), for example using ravel().\n",
      "  model_forest_class.fit(features_train,target_train) # entrena el modelo en el conjunto de entrenamiento\n",
      "/tmp/ipykernel_66/3257285775.py:5: DataConversionWarning: A column-vector y was passed when a 1d array was expected. Please change the shape of y to (n_samples,), for example using ravel().\n",
      "  model_forest_class.fit(features_train,target_train) # entrena el modelo en el conjunto de entrenamiento\n",
      "/tmp/ipykernel_66/3257285775.py:5: DataConversionWarning: A column-vector y was passed when a 1d array was expected. Please change the shape of y to (n_samples,), for example using ravel().\n",
      "  model_forest_class.fit(features_train,target_train) # entrena el modelo en el conjunto de entrenamiento\n",
      "/tmp/ipykernel_66/3257285775.py:5: DataConversionWarning: A column-vector y was passed when a 1d array was expected. Please change the shape of y to (n_samples,), for example using ravel().\n",
      "  model_forest_class.fit(features_train,target_train) # entrena el modelo en el conjunto de entrenamiento\n",
      "/tmp/ipykernel_66/3257285775.py:5: DataConversionWarning: A column-vector y was passed when a 1d array was expected. Please change the shape of y to (n_samples,), for example using ravel().\n",
      "  model_forest_class.fit(features_train,target_train) # entrena el modelo en el conjunto de entrenamiento\n",
      "/tmp/ipykernel_66/3257285775.py:5: DataConversionWarning: A column-vector y was passed when a 1d array was expected. Please change the shape of y to (n_samples,), for example using ravel().\n",
      "  model_forest_class.fit(features_train,target_train) # entrena el modelo en el conjunto de entrenamiento\n",
      "/tmp/ipykernel_66/3257285775.py:5: DataConversionWarning: A column-vector y was passed when a 1d array was expected. Please change the shape of y to (n_samples,), for example using ravel().\n",
      "  model_forest_class.fit(features_train,target_train) # entrena el modelo en el conjunto de entrenamiento\n",
      "/tmp/ipykernel_66/3257285775.py:5: DataConversionWarning: A column-vector y was passed when a 1d array was expected. Please change the shape of y to (n_samples,), for example using ravel().\n",
      "  model_forest_class.fit(features_train,target_train) # entrena el modelo en el conjunto de entrenamiento\n"
     ]
    },
    {
     "name": "stderr",
     "output_type": "stream",
     "text": [
      "/tmp/ipykernel_66/3257285775.py:5: DataConversionWarning: A column-vector y was passed when a 1d array was expected. Please change the shape of y to (n_samples,), for example using ravel().\n",
      "  model_forest_class.fit(features_train,target_train) # entrena el modelo en el conjunto de entrenamiento\n",
      "/tmp/ipykernel_66/3257285775.py:5: DataConversionWarning: A column-vector y was passed when a 1d array was expected. Please change the shape of y to (n_samples,), for example using ravel().\n",
      "  model_forest_class.fit(features_train,target_train) # entrena el modelo en el conjunto de entrenamiento\n",
      "/tmp/ipykernel_66/3257285775.py:5: DataConversionWarning: A column-vector y was passed when a 1d array was expected. Please change the shape of y to (n_samples,), for example using ravel().\n",
      "  model_forest_class.fit(features_train,target_train) # entrena el modelo en el conjunto de entrenamiento\n",
      "/tmp/ipykernel_66/3257285775.py:5: DataConversionWarning: A column-vector y was passed when a 1d array was expected. Please change the shape of y to (n_samples,), for example using ravel().\n",
      "  model_forest_class.fit(features_train,target_train) # entrena el modelo en el conjunto de entrenamiento\n",
      "/tmp/ipykernel_66/3257285775.py:5: DataConversionWarning: A column-vector y was passed when a 1d array was expected. Please change the shape of y to (n_samples,), for example using ravel().\n",
      "  model_forest_class.fit(features_train,target_train) # entrena el modelo en el conjunto de entrenamiento\n",
      "/tmp/ipykernel_66/3257285775.py:5: DataConversionWarning: A column-vector y was passed when a 1d array was expected. Please change the shape of y to (n_samples,), for example using ravel().\n",
      "  model_forest_class.fit(features_train,target_train) # entrena el modelo en el conjunto de entrenamiento\n",
      "/tmp/ipykernel_66/3257285775.py:5: DataConversionWarning: A column-vector y was passed when a 1d array was expected. Please change the shape of y to (n_samples,), for example using ravel().\n",
      "  model_forest_class.fit(features_train,target_train) # entrena el modelo en el conjunto de entrenamiento\n",
      "/tmp/ipykernel_66/3257285775.py:5: DataConversionWarning: A column-vector y was passed when a 1d array was expected. Please change the shape of y to (n_samples,), for example using ravel().\n",
      "  model_forest_class.fit(features_train,target_train) # entrena el modelo en el conjunto de entrenamiento\n",
      "/tmp/ipykernel_66/3257285775.py:5: DataConversionWarning: A column-vector y was passed when a 1d array was expected. Please change the shape of y to (n_samples,), for example using ravel().\n",
      "  model_forest_class.fit(features_train,target_train) # entrena el modelo en el conjunto de entrenamiento\n",
      "/tmp/ipykernel_66/3257285775.py:5: DataConversionWarning: A column-vector y was passed when a 1d array was expected. Please change the shape of y to (n_samples,), for example using ravel().\n",
      "  model_forest_class.fit(features_train,target_train) # entrena el modelo en el conjunto de entrenamiento\n",
      "/tmp/ipykernel_66/3257285775.py:5: DataConversionWarning: A column-vector y was passed when a 1d array was expected. Please change the shape of y to (n_samples,), for example using ravel().\n",
      "  model_forest_class.fit(features_train,target_train) # entrena el modelo en el conjunto de entrenamiento\n",
      "/tmp/ipykernel_66/3257285775.py:5: DataConversionWarning: A column-vector y was passed when a 1d array was expected. Please change the shape of y to (n_samples,), for example using ravel().\n",
      "  model_forest_class.fit(features_train,target_train) # entrena el modelo en el conjunto de entrenamiento\n",
      "/tmp/ipykernel_66/3257285775.py:5: DataConversionWarning: A column-vector y was passed when a 1d array was expected. Please change the shape of y to (n_samples,), for example using ravel().\n",
      "  model_forest_class.fit(features_train,target_train) # entrena el modelo en el conjunto de entrenamiento\n",
      "/tmp/ipykernel_66/3257285775.py:5: DataConversionWarning: A column-vector y was passed when a 1d array was expected. Please change the shape of y to (n_samples,), for example using ravel().\n",
      "  model_forest_class.fit(features_train,target_train) # entrena el modelo en el conjunto de entrenamiento\n",
      "/tmp/ipykernel_66/3257285775.py:5: DataConversionWarning: A column-vector y was passed when a 1d array was expected. Please change the shape of y to (n_samples,), for example using ravel().\n",
      "  model_forest_class.fit(features_train,target_train) # entrena el modelo en el conjunto de entrenamiento\n",
      "/tmp/ipykernel_66/3257285775.py:5: DataConversionWarning: A column-vector y was passed when a 1d array was expected. Please change the shape of y to (n_samples,), for example using ravel().\n",
      "  model_forest_class.fit(features_train,target_train) # entrena el modelo en el conjunto de entrenamiento\n",
      "/tmp/ipykernel_66/3257285775.py:5: DataConversionWarning: A column-vector y was passed when a 1d array was expected. Please change the shape of y to (n_samples,), for example using ravel().\n",
      "  model_forest_class.fit(features_train,target_train) # entrena el modelo en el conjunto de entrenamiento\n",
      "/tmp/ipykernel_66/3257285775.py:5: DataConversionWarning: A column-vector y was passed when a 1d array was expected. Please change the shape of y to (n_samples,), for example using ravel().\n",
      "  model_forest_class.fit(features_train,target_train) # entrena el modelo en el conjunto de entrenamiento\n",
      "/tmp/ipykernel_66/3257285775.py:5: DataConversionWarning: A column-vector y was passed when a 1d array was expected. Please change the shape of y to (n_samples,), for example using ravel().\n",
      "  model_forest_class.fit(features_train,target_train) # entrena el modelo en el conjunto de entrenamiento\n",
      "/tmp/ipykernel_66/3257285775.py:5: DataConversionWarning: A column-vector y was passed when a 1d array was expected. Please change the shape of y to (n_samples,), for example using ravel().\n",
      "  model_forest_class.fit(features_train,target_train) # entrena el modelo en el conjunto de entrenamiento\n",
      "/tmp/ipykernel_66/3257285775.py:5: DataConversionWarning: A column-vector y was passed when a 1d array was expected. Please change the shape of y to (n_samples,), for example using ravel().\n",
      "  model_forest_class.fit(features_train,target_train) # entrena el modelo en el conjunto de entrenamiento\n",
      "/tmp/ipykernel_66/3257285775.py:5: DataConversionWarning: A column-vector y was passed when a 1d array was expected. Please change the shape of y to (n_samples,), for example using ravel().\n",
      "  model_forest_class.fit(features_train,target_train) # entrena el modelo en el conjunto de entrenamiento\n",
      "/tmp/ipykernel_66/3257285775.py:5: DataConversionWarning: A column-vector y was passed when a 1d array was expected. Please change the shape of y to (n_samples,), for example using ravel().\n",
      "  model_forest_class.fit(features_train,target_train) # entrena el modelo en el conjunto de entrenamiento\n",
      "/tmp/ipykernel_66/3257285775.py:5: DataConversionWarning: A column-vector y was passed when a 1d array was expected. Please change the shape of y to (n_samples,), for example using ravel().\n",
      "  model_forest_class.fit(features_train,target_train) # entrena el modelo en el conjunto de entrenamiento\n",
      "/tmp/ipykernel_66/3257285775.py:5: DataConversionWarning: A column-vector y was passed when a 1d array was expected. Please change the shape of y to (n_samples,), for example using ravel().\n",
      "  model_forest_class.fit(features_train,target_train) # entrena el modelo en el conjunto de entrenamiento\n",
      "/tmp/ipykernel_66/3257285775.py:5: DataConversionWarning: A column-vector y was passed when a 1d array was expected. Please change the shape of y to (n_samples,), for example using ravel().\n",
      "  model_forest_class.fit(features_train,target_train) # entrena el modelo en el conjunto de entrenamiento\n",
      "/tmp/ipykernel_66/3257285775.py:5: DataConversionWarning: A column-vector y was passed when a 1d array was expected. Please change the shape of y to (n_samples,), for example using ravel().\n",
      "  model_forest_class.fit(features_train,target_train) # entrena el modelo en el conjunto de entrenamiento\n",
      "/tmp/ipykernel_66/3257285775.py:5: DataConversionWarning: A column-vector y was passed when a 1d array was expected. Please change the shape of y to (n_samples,), for example using ravel().\n",
      "  model_forest_class.fit(features_train,target_train) # entrena el modelo en el conjunto de entrenamiento\n"
     ]
    },
    {
     "name": "stderr",
     "output_type": "stream",
     "text": [
      "/tmp/ipykernel_66/3257285775.py:5: DataConversionWarning: A column-vector y was passed when a 1d array was expected. Please change the shape of y to (n_samples,), for example using ravel().\n",
      "  model_forest_class.fit(features_train,target_train) # entrena el modelo en el conjunto de entrenamiento\n",
      "/tmp/ipykernel_66/3257285775.py:5: DataConversionWarning: A column-vector y was passed when a 1d array was expected. Please change the shape of y to (n_samples,), for example using ravel().\n",
      "  model_forest_class.fit(features_train,target_train) # entrena el modelo en el conjunto de entrenamiento\n",
      "/tmp/ipykernel_66/3257285775.py:5: DataConversionWarning: A column-vector y was passed when a 1d array was expected. Please change the shape of y to (n_samples,), for example using ravel().\n",
      "  model_forest_class.fit(features_train,target_train) # entrena el modelo en el conjunto de entrenamiento\n",
      "/tmp/ipykernel_66/3257285775.py:5: DataConversionWarning: A column-vector y was passed when a 1d array was expected. Please change the shape of y to (n_samples,), for example using ravel().\n",
      "  model_forest_class.fit(features_train,target_train) # entrena el modelo en el conjunto de entrenamiento\n",
      "/tmp/ipykernel_66/3257285775.py:5: DataConversionWarning: A column-vector y was passed when a 1d array was expected. Please change the shape of y to (n_samples,), for example using ravel().\n",
      "  model_forest_class.fit(features_train,target_train) # entrena el modelo en el conjunto de entrenamiento\n",
      "/tmp/ipykernel_66/3257285775.py:5: DataConversionWarning: A column-vector y was passed when a 1d array was expected. Please change the shape of y to (n_samples,), for example using ravel().\n",
      "  model_forest_class.fit(features_train,target_train) # entrena el modelo en el conjunto de entrenamiento\n",
      "/tmp/ipykernel_66/3257285775.py:5: DataConversionWarning: A column-vector y was passed when a 1d array was expected. Please change the shape of y to (n_samples,), for example using ravel().\n",
      "  model_forest_class.fit(features_train,target_train) # entrena el modelo en el conjunto de entrenamiento\n",
      "/tmp/ipykernel_66/3257285775.py:5: DataConversionWarning: A column-vector y was passed when a 1d array was expected. Please change the shape of y to (n_samples,), for example using ravel().\n",
      "  model_forest_class.fit(features_train,target_train) # entrena el modelo en el conjunto de entrenamiento\n",
      "/tmp/ipykernel_66/3257285775.py:5: DataConversionWarning: A column-vector y was passed when a 1d array was expected. Please change the shape of y to (n_samples,), for example using ravel().\n",
      "  model_forest_class.fit(features_train,target_train) # entrena el modelo en el conjunto de entrenamiento\n",
      "/tmp/ipykernel_66/3257285775.py:5: DataConversionWarning: A column-vector y was passed when a 1d array was expected. Please change the shape of y to (n_samples,), for example using ravel().\n",
      "  model_forest_class.fit(features_train,target_train) # entrena el modelo en el conjunto de entrenamiento\n",
      "/tmp/ipykernel_66/3257285775.py:5: DataConversionWarning: A column-vector y was passed when a 1d array was expected. Please change the shape of y to (n_samples,), for example using ravel().\n",
      "  model_forest_class.fit(features_train,target_train) # entrena el modelo en el conjunto de entrenamiento\n",
      "/tmp/ipykernel_66/3257285775.py:5: DataConversionWarning: A column-vector y was passed when a 1d array was expected. Please change the shape of y to (n_samples,), for example using ravel().\n",
      "  model_forest_class.fit(features_train,target_train) # entrena el modelo en el conjunto de entrenamiento\n",
      "/tmp/ipykernel_66/3257285775.py:5: DataConversionWarning: A column-vector y was passed when a 1d array was expected. Please change the shape of y to (n_samples,), for example using ravel().\n",
      "  model_forest_class.fit(features_train,target_train) # entrena el modelo en el conjunto de entrenamiento\n",
      "/tmp/ipykernel_66/3257285775.py:5: DataConversionWarning: A column-vector y was passed when a 1d array was expected. Please change the shape of y to (n_samples,), for example using ravel().\n",
      "  model_forest_class.fit(features_train,target_train) # entrena el modelo en el conjunto de entrenamiento\n",
      "/tmp/ipykernel_66/3257285775.py:5: DataConversionWarning: A column-vector y was passed when a 1d array was expected. Please change the shape of y to (n_samples,), for example using ravel().\n",
      "  model_forest_class.fit(features_train,target_train) # entrena el modelo en el conjunto de entrenamiento\n",
      "/tmp/ipykernel_66/3257285775.py:5: DataConversionWarning: A column-vector y was passed when a 1d array was expected. Please change the shape of y to (n_samples,), for example using ravel().\n",
      "  model_forest_class.fit(features_train,target_train) # entrena el modelo en el conjunto de entrenamiento\n"
     ]
    },
    {
     "name": "stdout",
     "output_type": "stream",
     "text": [
      "La exactitud del mejor modelo en el conjunto de validación (n_estimators = 98): 0.7993779160186625\n"
     ]
    }
   ],
   "source": [
    "best_score = 0\n",
    "best_est = 0\n",
    "for est in range(1, 101): # selecciona el rango del hiperparámetro\n",
    "    model_forest_class = RandomForestClassifier(random_state=54321, n_estimators=est) # configura el número de árboles\n",
    "    model_forest_class.fit(features_train,target_train) # entrena el modelo en el conjunto de entrenamiento\n",
    "    score = model_forest_class.score(features_valid,target_valid) # calcula la puntuación de accuracy en el conjunto de validación\n",
    "    if score > best_score:\n",
    "        best_score = score# guarda la mejor puntuación de accuracy en el conjunto de validación\n",
    "        best_est = est# guarda el número de estimadores que corresponden a la mejor puntuación de exactitud\n",
    "\n",
    "print(\"La exactitud del mejor modelo en el conjunto de validación (n_estimators = {}): {}\".format(best_est, best_score))"
   ]
  },
  {
   "cell_type": "markdown",
   "metadata": {},
   "source": [
    "<p><b><FONT color=blue> De acuerdo a los modelos y el umbral de exactitud esperada en 0.75 se puede observar que se pueden comparar 2 modelos, los cuales son : El árbol de decisión el cual en su hiperparametro de maxima profundidad en 7 alcalza el valor maximo de exactitud de 0.77 el cual es muy bueno para el objetivo, tambien con un mejor resultado se encuentra el Bosque aleatorio el cual en su numero de estimaciones con 98 se tiene un excelente resultado de exactitud de 0.79.\n",
    "    \n",
    "<b><FONT color=blue>Sin embargo se optará por trabajar con el arbol de desición ya que su tiempo de ejecucion es significativamente menor al bosque aleatorio. </b></FONT></p>"
   ]
  },
  {
   "cell_type": "markdown",
   "metadata": {},
   "source": [
    "<h3>Comprueba la calidad del modelo usando el conjunto de prueba.</h3>"
   ]
  },
  {
   "cell_type": "code",
   "execution_count": 16,
   "metadata": {},
   "outputs": [
    {
     "name": "stdout",
     "output_type": "stream",
     "text": [
      "0.7884914463452566\n"
     ]
    }
   ],
   "source": [
    "\n",
    "model_tree_class= DecisionTreeClassifier(random_state=12345,max_depth=7)\n",
    "model_tree_class.fit(features_train,target_train)\n",
    "predictions_test = model_tree_class.predict(features_test)\n",
    "acc=accuracy_score(target_test, predictions_test)\n",
    "print(acc)\n"
   ]
  },
  {
   "cell_type": "markdown",
   "metadata": {},
   "source": [
    "<p><b><FONT color=blue> Se compueba la exactitud del modelo con el conjunto de prueba, quedando mas arriba del umbral con 0.78 </p></b></FONT>"
   ]
  },
  {
   "cell_type": "markdown",
   "metadata": {},
   "source": [
    "<h3>\tTarea adicional: haz una prueba de cordura al modelo. Estos datos son más complejos que los que habías usado antes así que no será una tarea fácil. Más adelante lo veremos con más detalle.</h3>"
   ]
  },
  {
   "cell_type": "code",
   "execution_count": 17,
   "metadata": {},
   "outputs": [],
   "source": [
    "from sklearn.dummy import DummyClassifier\n"
   ]
  },
  {
   "cell_type": "code",
   "execution_count": 18,
   "metadata": {},
   "outputs": [
    {
     "name": "stdout",
     "output_type": "stream",
     "text": [
      "1.0\n"
     ]
    }
   ],
   "source": [
    "dummy_freq= DummyClassifier(strategy='most_frequent').fit(features_train,target_train)\n",
    "freq_pred= dummy_freq.predict(features_test)\n",
    "score=dummy_freq.score(target_test,freq_pred)\n",
    "print(score)"
   ]
  },
  {
   "cell_type": "code",
   "execution_count": 19,
   "metadata": {},
   "outputs": [
    {
     "name": "stdout",
     "output_type": "stream",
     "text": [
      "0.5069984447900466\n"
     ]
    }
   ],
   "source": [
    "dummy_uni= DummyClassifier(strategy='uniform').fit(features_train,target_train)\n",
    "uni_pred= dummy_uni.predict(features_test)\n",
    "score=dummy_uni.score(target_test,uni_pred)\n",
    "print(score)"
   ]
  }
 ],
 "metadata": {
  "ExecuteTimeLog": [
   {
    "duration": 155,
    "start_time": "2024-10-15T18:01:43.937Z"
   },
   {
    "duration": 11,
    "start_time": "2024-10-15T18:02:08.758Z"
   },
   {
    "duration": 291,
    "start_time": "2024-10-15T18:02:12.081Z"
   },
   {
    "duration": 360,
    "start_time": "2024-10-15T18:02:14.262Z"
   },
   {
    "duration": 59,
    "start_time": "2024-10-15T18:02:32.370Z"
   },
   {
    "duration": 58,
    "start_time": "2024-10-15T18:05:22.739Z"
   },
   {
    "duration": 2,
    "start_time": "2024-10-15T18:06:17.292Z"
   },
   {
    "duration": 59,
    "start_time": "2024-10-15T18:06:17.899Z"
   },
   {
    "duration": 64,
    "start_time": "2024-10-15T20:31:08.817Z"
   },
   {
    "duration": 290,
    "start_time": "2024-10-15T20:31:39.839Z"
   },
   {
    "duration": 540,
    "start_time": "2024-10-15T20:31:40.387Z"
   },
   {
    "duration": 61,
    "start_time": "2024-10-15T20:33:06.992Z"
   },
   {
    "duration": 59,
    "start_time": "2024-10-15T20:33:19.572Z"
   },
   {
    "duration": 60,
    "start_time": "2024-10-15T20:33:33.486Z"
   },
   {
    "duration": 3,
    "start_time": "2024-10-15T20:34:22.639Z"
   },
   {
    "duration": 65,
    "start_time": "2024-10-15T20:34:23.017Z"
   },
   {
    "duration": 2,
    "start_time": "2024-10-15T20:36:36.740Z"
   },
   {
    "duration": 62,
    "start_time": "2024-10-15T20:36:37.030Z"
   },
   {
    "duration": 62,
    "start_time": "2024-10-15T20:38:07.687Z"
   },
   {
    "duration": 9,
    "start_time": "2024-10-15T20:38:14.381Z"
   },
   {
    "duration": 16,
    "start_time": "2024-10-15T20:38:17.269Z"
   },
   {
    "duration": 9,
    "start_time": "2024-10-15T21:18:34.766Z"
   },
   {
    "duration": 13,
    "start_time": "2024-10-15T21:18:43.160Z"
   },
   {
    "duration": 505,
    "start_time": "2024-10-15T22:01:46.774Z"
   },
   {
    "duration": 8,
    "start_time": "2024-10-15T22:01:48.612Z"
   },
   {
    "duration": 11,
    "start_time": "2024-10-15T22:01:48.771Z"
   },
   {
    "duration": 4,
    "start_time": "2024-10-15T22:02:45.027Z"
   },
   {
    "duration": 10,
    "start_time": "2024-10-15T22:37:19.845Z"
   },
   {
    "duration": 11,
    "start_time": "2024-10-15T22:42:07.027Z"
   },
   {
    "duration": 48,
    "start_time": "2024-10-16T00:53:39.792Z"
   },
   {
    "duration": 6,
    "start_time": "2024-10-16T00:55:52.390Z"
   },
   {
    "duration": 10,
    "start_time": "2024-10-16T00:56:05.128Z"
   },
   {
    "duration": 11,
    "start_time": "2024-10-16T00:56:17.054Z"
   },
   {
    "duration": 7,
    "start_time": "2024-10-16T00:56:30.990Z"
   },
   {
    "duration": 5,
    "start_time": "2024-10-16T01:46:36.836Z"
   },
   {
    "duration": 11,
    "start_time": "2024-10-16T01:46:49.232Z"
   },
   {
    "duration": 5,
    "start_time": "2024-10-16T01:51:00.102Z"
   },
   {
    "duration": 10,
    "start_time": "2024-10-16T01:51:05.509Z"
   },
   {
    "duration": 10,
    "start_time": "2024-10-16T01:51:17.197Z"
   },
   {
    "duration": 9,
    "start_time": "2024-10-16T01:54:30.247Z"
   },
   {
    "duration": 9,
    "start_time": "2024-10-16T01:56:21.422Z"
   },
   {
    "duration": 18,
    "start_time": "2024-10-16T01:56:51.927Z"
   },
   {
    "duration": 14,
    "start_time": "2024-10-16T01:56:57.016Z"
   },
   {
    "duration": 4,
    "start_time": "2024-10-16T01:57:00.891Z"
   },
   {
    "duration": 3,
    "start_time": "2024-10-16T01:57:59.104Z"
   },
   {
    "duration": 13,
    "start_time": "2024-10-16T01:59:05.106Z"
   },
   {
    "duration": 3,
    "start_time": "2024-10-16T02:00:05.765Z"
   },
   {
    "duration": 4,
    "start_time": "2024-10-16T02:00:36.156Z"
   },
   {
    "duration": 8,
    "start_time": "2024-10-16T02:00:48.930Z"
   },
   {
    "duration": 3,
    "start_time": "2024-10-16T02:00:49.399Z"
   },
   {
    "duration": 8,
    "start_time": "2024-10-16T02:01:02.681Z"
   },
   {
    "duration": 10,
    "start_time": "2024-10-16T02:01:46.281Z"
   },
   {
    "duration": 8,
    "start_time": "2024-10-16T02:01:51.692Z"
   },
   {
    "duration": 3,
    "start_time": "2024-10-16T02:01:52.019Z"
   },
   {
    "duration": 9,
    "start_time": "2024-10-16T02:01:58.302Z"
   },
   {
    "duration": 3,
    "start_time": "2024-10-16T02:01:58.793Z"
   },
   {
    "duration": 8,
    "start_time": "2024-10-16T02:02:03.345Z"
   },
   {
    "duration": 4,
    "start_time": "2024-10-16T02:02:03.878Z"
   },
   {
    "duration": 8,
    "start_time": "2024-10-16T02:02:11.839Z"
   },
   {
    "duration": 3,
    "start_time": "2024-10-16T02:02:12.399Z"
   },
   {
    "duration": 33,
    "start_time": "2024-10-16T02:23:24.049Z"
   },
   {
    "duration": 10,
    "start_time": "2024-10-16T02:23:24.863Z"
   },
   {
    "duration": 11,
    "start_time": "2024-10-16T02:23:25.095Z"
   },
   {
    "duration": 8,
    "start_time": "2024-10-16T02:23:26.727Z"
   },
   {
    "duration": 3,
    "start_time": "2024-10-16T02:23:27.167Z"
   },
   {
    "duration": 3,
    "start_time": "2024-10-16T03:04:41.478Z"
   },
   {
    "duration": 11,
    "start_time": "2024-10-16T03:04:41.787Z"
   },
   {
    "duration": 9,
    "start_time": "2024-10-16T03:04:42.210Z"
   },
   {
    "duration": 8,
    "start_time": "2024-10-16T03:04:43.358Z"
   },
   {
    "duration": 4,
    "start_time": "2024-10-16T03:04:44.383Z"
   },
   {
    "duration": 30,
    "start_time": "2024-10-16T04:49:57.989Z"
   },
   {
    "duration": 3,
    "start_time": "2024-10-16T04:50:16.457Z"
   },
   {
    "duration": 12,
    "start_time": "2024-10-16T04:50:16.783Z"
   },
   {
    "duration": 10,
    "start_time": "2024-10-16T04:50:17.369Z"
   },
   {
    "duration": 8,
    "start_time": "2024-10-16T04:50:18.705Z"
   },
   {
    "duration": 4,
    "start_time": "2024-10-16T04:50:20.024Z"
   },
   {
    "duration": 3,
    "start_time": "2024-10-16T04:50:20.554Z"
   },
   {
    "duration": 29,
    "start_time": "2024-10-16T04:50:22.669Z"
   },
   {
    "duration": 33,
    "start_time": "2024-10-16T04:51:23.056Z"
   },
   {
    "duration": 16,
    "start_time": "2024-10-16T04:53:31.095Z"
   },
   {
    "duration": 12,
    "start_time": "2024-10-16T04:54:34.008Z"
   },
   {
    "duration": 11,
    "start_time": "2024-10-16T04:54:39.108Z"
   },
   {
    "duration": 5987,
    "start_time": "2024-10-16T04:56:40.269Z"
   },
   {
    "duration": 28,
    "start_time": "2024-10-16T07:32:30.260Z"
   },
   {
    "duration": 27,
    "start_time": "2024-10-16T07:32:38.711Z"
   },
   {
    "duration": 27,
    "start_time": "2024-10-16T07:32:47.196Z"
   },
   {
    "duration": 28,
    "start_time": "2024-10-16T07:33:19.720Z"
   },
   {
    "duration": 43,
    "start_time": "2024-10-16T07:34:37.699Z"
   },
   {
    "duration": 28,
    "start_time": "2024-10-16T07:34:49.357Z"
   },
   {
    "duration": 27,
    "start_time": "2024-10-16T07:34:53.824Z"
   },
   {
    "duration": 29,
    "start_time": "2024-10-16T07:35:13.783Z"
   },
   {
    "duration": 27,
    "start_time": "2024-10-16T07:35:54.744Z"
   },
   {
    "duration": 6,
    "start_time": "2024-10-16T07:36:02.994Z"
   },
   {
    "duration": 27,
    "start_time": "2024-10-16T07:36:11.594Z"
   },
   {
    "duration": 4,
    "start_time": "2024-10-16T07:36:58.148Z"
   },
   {
    "duration": 29,
    "start_time": "2024-10-16T07:37:01.668Z"
   },
   {
    "duration": 61,
    "start_time": "2024-10-16T07:37:12.339Z"
   },
   {
    "duration": 152,
    "start_time": "2024-10-16T07:37:20.204Z"
   },
   {
    "duration": 12,
    "start_time": "2024-10-16T07:38:06.841Z"
   },
   {
    "duration": 15908,
    "start_time": "2024-10-16T07:38:35.570Z"
   },
   {
    "duration": 62388,
    "start_time": "2024-10-16T07:39:11.032Z"
   },
   {
    "duration": 15912,
    "start_time": "2024-10-16T07:42:08.405Z"
   },
   {
    "duration": 9,
    "start_time": "2024-10-16T21:48:56.060Z"
   },
   {
    "duration": 157,
    "start_time": "2024-10-16T21:49:20.928Z"
   },
   {
    "duration": 820,
    "start_time": "2024-10-16T21:49:32.627Z"
   },
   {
    "duration": 15,
    "start_time": "2024-10-16T21:49:33.448Z"
   },
   {
    "duration": 13,
    "start_time": "2024-10-16T21:49:34.155Z"
   },
   {
    "duration": 8,
    "start_time": "2024-10-16T21:49:35.565Z"
   },
   {
    "duration": 3,
    "start_time": "2024-10-16T21:49:36.136Z"
   },
   {
    "duration": 2,
    "start_time": "2024-10-16T21:49:36.630Z"
   },
   {
    "duration": 162,
    "start_time": "2024-10-16T21:49:37.707Z"
   },
   {
    "duration": 16,
    "start_time": "2024-10-16T21:49:38.182Z"
   },
   {
    "duration": 16415,
    "start_time": "2024-10-16T21:49:38.803Z"
   },
   {
    "duration": 9,
    "start_time": "2024-10-16T21:49:55.220Z"
   },
   {
    "duration": 97,
    "start_time": "2024-10-16T21:50:58.916Z"
   },
   {
    "duration": 9,
    "start_time": "2024-10-16T21:51:16.922Z"
   },
   {
    "duration": 8,
    "start_time": "2024-10-16T21:51:21.245Z"
   },
   {
    "duration": 9,
    "start_time": "2024-10-16T21:52:39.743Z"
   },
   {
    "duration": 9,
    "start_time": "2024-10-16T21:55:00.321Z"
   },
   {
    "duration": 10,
    "start_time": "2024-10-16T21:55:19.023Z"
   },
   {
    "duration": 8,
    "start_time": "2024-10-16T21:55:27.681Z"
   },
   {
    "duration": 7,
    "start_time": "2024-10-16T21:57:54.739Z"
   },
   {
    "duration": 7,
    "start_time": "2024-10-16T21:57:59.011Z"
   },
   {
    "duration": 12,
    "start_time": "2024-10-16T21:58:04.281Z"
   },
   {
    "duration": 31,
    "start_time": "2024-10-16T22:14:20.083Z"
   },
   {
    "duration": 12,
    "start_time": "2024-10-16T22:20:01.034Z"
   },
   {
    "duration": 5,
    "start_time": "2024-10-17T03:51:00.657Z"
   },
   {
    "duration": 18,
    "start_time": "2024-10-17T03:51:05.321Z"
   },
   {
    "duration": 50,
    "start_time": "2024-10-17T03:51:15.123Z"
   },
   {
    "duration": 316,
    "start_time": "2024-10-17T03:51:26.744Z"
   },
   {
    "duration": 4,
    "start_time": "2024-10-17T04:02:16.895Z"
   },
   {
    "duration": 31,
    "start_time": "2024-10-17T04:03:34.434Z"
   },
   {
    "duration": 2,
    "start_time": "2024-10-17T04:03:41.482Z"
   },
   {
    "duration": 38,
    "start_time": "2024-10-17T04:03:42.371Z"
   },
   {
    "duration": 35,
    "start_time": "2024-10-17T04:04:09.478Z"
   },
   {
    "duration": 6,
    "start_time": "2024-10-17T04:04:29.963Z"
   },
   {
    "duration": 8,
    "start_time": "2024-10-17T04:16:15.327Z"
   },
   {
    "duration": 57,
    "start_time": "2024-10-17T04:17:38.871Z"
   },
   {
    "duration": 76,
    "start_time": "2024-10-17T04:20:13.157Z"
   },
   {
    "duration": 13,
    "start_time": "2024-10-17T04:20:32.908Z"
   },
   {
    "duration": 9,
    "start_time": "2024-10-17T04:22:26.011Z"
   },
   {
    "duration": 7,
    "start_time": "2024-10-17T04:23:08.864Z"
   },
   {
    "duration": 2,
    "start_time": "2024-10-17T04:23:14.324Z"
   },
   {
    "duration": 9,
    "start_time": "2024-10-17T04:23:14.634Z"
   },
   {
    "duration": 45,
    "start_time": "2024-10-17T04:23:20.082Z"
   },
   {
    "duration": 21,
    "start_time": "2024-10-17T04:23:29.107Z"
   },
   {
    "duration": 11,
    "start_time": "2024-10-17T04:23:34.502Z"
   },
   {
    "duration": 68,
    "start_time": "2024-10-17T04:23:58.080Z"
   },
   {
    "duration": 6,
    "start_time": "2024-10-17T04:24:11.766Z"
   },
   {
    "duration": 49,
    "start_time": "2024-10-17T04:24:32.899Z"
   },
   {
    "duration": 50,
    "start_time": "2024-10-17T04:24:40.551Z"
   },
   {
    "duration": 43,
    "start_time": "2024-10-17T04:25:55.050Z"
   },
   {
    "duration": 4,
    "start_time": "2024-10-17T04:26:08.100Z"
   },
   {
    "duration": 50,
    "start_time": "2024-10-17T04:26:18.190Z"
   },
   {
    "duration": 6,
    "start_time": "2024-10-17T04:26:39.155Z"
   },
   {
    "duration": 58,
    "start_time": "2024-10-17T04:26:57.449Z"
   },
   {
    "duration": 64,
    "start_time": "2024-10-17T04:27:10.261Z"
   },
   {
    "duration": 4,
    "start_time": "2024-10-17T04:33:21.276Z"
   },
   {
    "duration": 49,
    "start_time": "2024-10-17T04:33:44.798Z"
   },
   {
    "duration": 78,
    "start_time": "2024-10-17T04:34:23.093Z"
   },
   {
    "duration": 47,
    "start_time": "2024-10-17T04:34:37.575Z"
   },
   {
    "duration": 6,
    "start_time": "2024-10-17T04:34:47.916Z"
   },
   {
    "duration": 2,
    "start_time": "2024-10-17T04:35:21.950Z"
   },
   {
    "duration": 4,
    "start_time": "2024-10-17T04:36:26.911Z"
   },
   {
    "duration": 4,
    "start_time": "2024-10-17T04:36:43.903Z"
   },
   {
    "duration": 4,
    "start_time": "2024-10-17T04:37:04.511Z"
   },
   {
    "duration": 11,
    "start_time": "2024-10-17T04:37:07.582Z"
   },
   {
    "duration": 4,
    "start_time": "2024-10-17T04:37:22.135Z"
   },
   {
    "duration": 5,
    "start_time": "2024-10-17T04:37:40.449Z"
   },
   {
    "duration": 5,
    "start_time": "2024-10-17T04:37:49.376Z"
   },
   {
    "duration": 43,
    "start_time": "2024-10-17T04:37:57.591Z"
   },
   {
    "duration": 5,
    "start_time": "2024-10-17T04:38:13.128Z"
   },
   {
    "duration": 4,
    "start_time": "2024-10-17T04:38:16.522Z"
   },
   {
    "duration": 7,
    "start_time": "2024-10-17T04:38:26.399Z"
   },
   {
    "duration": 4,
    "start_time": "2024-10-17T04:38:31.079Z"
   },
   {
    "duration": 7,
    "start_time": "2024-10-17T04:38:33.301Z"
   },
   {
    "duration": 48,
    "start_time": "2024-10-17T04:39:22.760Z"
   },
   {
    "duration": 12,
    "start_time": "2024-10-17T04:39:31.306Z"
   },
   {
    "duration": 6,
    "start_time": "2024-10-17T06:37:48.984Z"
   },
   {
    "duration": 41,
    "start_time": "2024-10-17T06:37:59.394Z"
   },
   {
    "duration": 32,
    "start_time": "2024-10-17T06:38:10.903Z"
   },
   {
    "duration": 5,
    "start_time": "2024-10-17T06:38:16.019Z"
   },
   {
    "duration": 5,
    "start_time": "2024-10-17T06:40:58.751Z"
   },
   {
    "duration": 22,
    "start_time": "2024-10-17T06:41:19.375Z"
   },
   {
    "duration": 5,
    "start_time": "2024-10-17T06:41:32.975Z"
   },
   {
    "duration": 4,
    "start_time": "2024-10-17T06:44:47.312Z"
   },
   {
    "duration": 4,
    "start_time": "2024-10-17T06:45:20.125Z"
   },
   {
    "duration": 4,
    "start_time": "2024-10-17T06:45:22.971Z"
   },
   {
    "duration": 2,
    "start_time": "2024-10-17T06:45:23.736Z"
   },
   {
    "duration": 6,
    "start_time": "2024-10-17T06:45:26.314Z"
   },
   {
    "duration": 5,
    "start_time": "2024-10-17T06:45:30.986Z"
   },
   {
    "duration": 4,
    "start_time": "2024-10-17T06:45:40.254Z"
   },
   {
    "duration": 4,
    "start_time": "2024-10-17T06:45:43.957Z"
   },
   {
    "duration": 4,
    "start_time": "2024-10-17T06:45:46.508Z"
   },
   {
    "duration": 151,
    "start_time": "2024-10-17T06:55:06.748Z"
   },
   {
    "duration": 150,
    "start_time": "2024-10-17T06:55:29.859Z"
   },
   {
    "duration": 834,
    "start_time": "2024-10-17T12:51:41.622Z"
   },
   {
    "duration": 560,
    "start_time": "2024-10-17T12:51:42.459Z"
   },
   {
    "duration": 0,
    "start_time": "2024-10-17T12:51:43.021Z"
   },
   {
    "duration": 0,
    "start_time": "2024-10-17T12:51:43.022Z"
   },
   {
    "duration": 0,
    "start_time": "2024-10-17T12:51:43.023Z"
   },
   {
    "duration": 0,
    "start_time": "2024-10-17T12:51:43.024Z"
   },
   {
    "duration": 0,
    "start_time": "2024-10-17T12:51:43.025Z"
   },
   {
    "duration": 0,
    "start_time": "2024-10-17T12:51:43.026Z"
   },
   {
    "duration": 0,
    "start_time": "2024-10-17T12:51:43.027Z"
   },
   {
    "duration": 0,
    "start_time": "2024-10-17T12:51:43.028Z"
   },
   {
    "duration": 0,
    "start_time": "2024-10-17T12:51:43.029Z"
   },
   {
    "duration": 0,
    "start_time": "2024-10-17T12:51:43.030Z"
   },
   {
    "duration": 60,
    "start_time": "2024-10-17T12:52:10.397Z"
   },
   {
    "duration": 89,
    "start_time": "2024-10-17T12:52:27.397Z"
   },
   {
    "duration": 60,
    "start_time": "2024-10-17T12:52:52.599Z"
   },
   {
    "duration": 60,
    "start_time": "2024-10-17T12:52:55.116Z"
   },
   {
    "duration": 17,
    "start_time": "2024-10-17T12:54:09.511Z"
   },
   {
    "duration": 3,
    "start_time": "2024-10-17T12:54:13.743Z"
   },
   {
    "duration": 8,
    "start_time": "2024-10-17T12:54:13.749Z"
   },
   {
    "duration": 16,
    "start_time": "2024-10-17T12:54:13.758Z"
   },
   {
    "duration": 8,
    "start_time": "2024-10-17T12:54:13.776Z"
   },
   {
    "duration": 3,
    "start_time": "2024-10-17T12:54:13.786Z"
   },
   {
    "duration": 154,
    "start_time": "2024-10-17T12:54:13.791Z"
   },
   {
    "duration": 12,
    "start_time": "2024-10-17T12:54:13.946Z"
   },
   {
    "duration": 16267,
    "start_time": "2024-10-17T12:54:13.960Z"
   },
   {
    "duration": 11,
    "start_time": "2024-10-17T12:54:30.229Z"
   },
   {
    "duration": 3,
    "start_time": "2024-10-17T12:54:30.242Z"
   },
   {
    "duration": 5,
    "start_time": "2024-10-17T12:54:30.246Z"
   },
   {
    "duration": 5,
    "start_time": "2024-10-17T12:54:30.252Z"
   },
   {
    "duration": 6,
    "start_time": "2024-10-17T13:03:17.534Z"
   }
  ],
  "kernelspec": {
   "display_name": "Python 3 (ipykernel)",
   "language": "python",
   "name": "python3"
  },
  "language_info": {
   "codemirror_mode": {
    "name": "ipython",
    "version": 3
   },
   "file_extension": ".py",
   "mimetype": "text/x-python",
   "name": "python",
   "nbconvert_exporter": "python",
   "pygments_lexer": "ipython3",
   "version": "3.9.19"
  },
  "toc": {
   "base_numbering": 1,
   "nav_menu": {
    "height": "28px",
    "width": "257px"
   },
   "number_sections": true,
   "sideBar": true,
   "skip_h1_title": true,
   "title_cell": "Table of Contents",
   "title_sidebar": "Contents",
   "toc_cell": false,
   "toc_position": {},
   "toc_section_display": true,
   "toc_window_display": false
  }
 },
 "nbformat": 4,
 "nbformat_minor": 2
}
